{
 "cells": [
  {
   "cell_type": "code",
   "execution_count": 1,
   "metadata": {},
   "outputs": [],
   "source": [
    "import pandas as pd"
   ]
  },
  {
   "cell_type": "code",
   "execution_count": 4,
   "metadata": {},
   "outputs": [],
   "source": [
    "df = pd.read_csv('decisiontree.csv')"
   ]
  },
  {
   "cell_type": "code",
   "execution_count": 6,
   "metadata": {
    "scrolled": true
   },
   "outputs": [
    {
     "data": {
      "text/html": [
       "<div>\n",
       "<style scoped>\n",
       "    .dataframe tbody tr th:only-of-type {\n",
       "        vertical-align: middle;\n",
       "    }\n",
       "\n",
       "    .dataframe tbody tr th {\n",
       "        vertical-align: top;\n",
       "    }\n",
       "\n",
       "    .dataframe thead th {\n",
       "        text-align: right;\n",
       "    }\n",
       "</style>\n",
       "<table border=\"1\" class=\"dataframe\">\n",
       "  <thead>\n",
       "    <tr style=\"text-align: right;\">\n",
       "      <th></th>\n",
       "      <th>day</th>\n",
       "      <th>outlook</th>\n",
       "      <th>temperature</th>\n",
       "      <th>humidity</th>\n",
       "      <th>wind</th>\n",
       "      <th>decision</th>\n",
       "    </tr>\n",
       "  </thead>\n",
       "  <tbody>\n",
       "    <tr>\n",
       "      <th>0</th>\n",
       "      <td>1</td>\n",
       "      <td>sunny</td>\n",
       "      <td>hot</td>\n",
       "      <td>high</td>\n",
       "      <td>weak</td>\n",
       "      <td>no</td>\n",
       "    </tr>\n",
       "    <tr>\n",
       "      <th>1</th>\n",
       "      <td>2</td>\n",
       "      <td>sunny</td>\n",
       "      <td>hot</td>\n",
       "      <td>high</td>\n",
       "      <td>strong</td>\n",
       "      <td>no</td>\n",
       "    </tr>\n",
       "    <tr>\n",
       "      <th>2</th>\n",
       "      <td>3</td>\n",
       "      <td>overcast</td>\n",
       "      <td>hot</td>\n",
       "      <td>high</td>\n",
       "      <td>weak</td>\n",
       "      <td>yes</td>\n",
       "    </tr>\n",
       "    <tr>\n",
       "      <th>3</th>\n",
       "      <td>4</td>\n",
       "      <td>rainfall</td>\n",
       "      <td>mild</td>\n",
       "      <td>high</td>\n",
       "      <td>weak</td>\n",
       "      <td>yes</td>\n",
       "    </tr>\n",
       "    <tr>\n",
       "      <th>4</th>\n",
       "      <td>5</td>\n",
       "      <td>rainfall</td>\n",
       "      <td>cool</td>\n",
       "      <td>normal</td>\n",
       "      <td>weak</td>\n",
       "      <td>yes</td>\n",
       "    </tr>\n",
       "    <tr>\n",
       "      <th>5</th>\n",
       "      <td>6</td>\n",
       "      <td>rainfall</td>\n",
       "      <td>cool</td>\n",
       "      <td>normal</td>\n",
       "      <td>strong</td>\n",
       "      <td>no</td>\n",
       "    </tr>\n",
       "    <tr>\n",
       "      <th>6</th>\n",
       "      <td>7</td>\n",
       "      <td>overcast</td>\n",
       "      <td>cool</td>\n",
       "      <td>normal</td>\n",
       "      <td>strong</td>\n",
       "      <td>yes</td>\n",
       "    </tr>\n",
       "    <tr>\n",
       "      <th>7</th>\n",
       "      <td>8</td>\n",
       "      <td>sunny</td>\n",
       "      <td>mild</td>\n",
       "      <td>high</td>\n",
       "      <td>weak</td>\n",
       "      <td>no</td>\n",
       "    </tr>\n",
       "    <tr>\n",
       "      <th>8</th>\n",
       "      <td>9</td>\n",
       "      <td>sunny</td>\n",
       "      <td>cool</td>\n",
       "      <td>normal</td>\n",
       "      <td>weak</td>\n",
       "      <td>yes</td>\n",
       "    </tr>\n",
       "    <tr>\n",
       "      <th>9</th>\n",
       "      <td>10</td>\n",
       "      <td>rainfall</td>\n",
       "      <td>mild</td>\n",
       "      <td>normal</td>\n",
       "      <td>weak</td>\n",
       "      <td>yes</td>\n",
       "    </tr>\n",
       "    <tr>\n",
       "      <th>10</th>\n",
       "      <td>11</td>\n",
       "      <td>sunny</td>\n",
       "      <td>mild</td>\n",
       "      <td>normal</td>\n",
       "      <td>strong</td>\n",
       "      <td>yes</td>\n",
       "    </tr>\n",
       "    <tr>\n",
       "      <th>11</th>\n",
       "      <td>12</td>\n",
       "      <td>overcast</td>\n",
       "      <td>mild</td>\n",
       "      <td>high</td>\n",
       "      <td>strong</td>\n",
       "      <td>yes</td>\n",
       "    </tr>\n",
       "    <tr>\n",
       "      <th>12</th>\n",
       "      <td>13</td>\n",
       "      <td>overcast</td>\n",
       "      <td>hot</td>\n",
       "      <td>normal</td>\n",
       "      <td>weak</td>\n",
       "      <td>yes</td>\n",
       "    </tr>\n",
       "    <tr>\n",
       "      <th>13</th>\n",
       "      <td>14</td>\n",
       "      <td>rainfall</td>\n",
       "      <td>mild</td>\n",
       "      <td>high</td>\n",
       "      <td>strong</td>\n",
       "      <td>no</td>\n",
       "    </tr>\n",
       "  </tbody>\n",
       "</table>\n",
       "</div>"
      ],
      "text/plain": [
       "    day   outlook temperature humidity    wind decision\n",
       "0     1     sunny         hot     high    weak       no\n",
       "1     2     sunny         hot     high  strong       no\n",
       "2     3  overcast         hot     high    weak      yes\n",
       "3     4  rainfall        mild     high    weak      yes\n",
       "4     5  rainfall        cool   normal    weak      yes\n",
       "5     6  rainfall        cool   normal  strong       no\n",
       "6     7  overcast        cool   normal  strong      yes\n",
       "7     8     sunny        mild     high    weak       no\n",
       "8     9     sunny        cool   normal    weak      yes\n",
       "9    10  rainfall        mild   normal    weak      yes\n",
       "10   11     sunny        mild   normal  strong      yes\n",
       "11   12  overcast        mild     high  strong      yes\n",
       "12   13  overcast         hot   normal    weak      yes\n",
       "13   14  rainfall        mild     high  strong       no"
      ]
     },
     "execution_count": 6,
     "metadata": {},
     "output_type": "execute_result"
    }
   ],
   "source": [
    "df.head(15)"
   ]
  },
  {
   "cell_type": "code",
   "execution_count": 15,
   "metadata": {},
   "outputs": [
    {
     "data": {
      "text/plain": [
       "outlook\n",
       "overcast    4\n",
       "rainfall    5\n",
       "sunny       5\n",
       "Name: decision, dtype: int64"
      ]
     },
     "execution_count": 15,
     "metadata": {},
     "output_type": "execute_result"
    }
   ],
   "source": [
    "df.groupby('outlook')['decision'].count()"
   ]
  },
  {
   "cell_type": "code",
   "execution_count": 20,
   "metadata": {},
   "outputs": [
    {
     "name": "stdout",
     "output_type": "stream",
     "text": [
      "outlook\n",
      "sunny\n",
      "overcast\n",
      "rainfall\n",
      "temperature\n",
      "hot\n",
      "mild\n",
      "cool\n",
      "humidity\n",
      "high\n",
      "normal\n",
      "wind\n",
      "weak\n",
      "strong\n",
      "decision\n",
      "no\n",
      "yes\n"
     ]
    }
   ],
   "source": [
    "for column_name in df.columns[1:]:\n",
    "    print(column_name)\n",
    "    for outlook in df[column_name].unique():\n",
    "        print(outlook)"
   ]
  },
  {
   "cell_type": "code",
   "execution_count": 21,
   "metadata": {},
   "outputs": [
    {
     "name": "stdout",
     "output_type": "stream",
     "text": [
      "outlook\n",
      "sunny\n",
      "overcast\n",
      "rainfall\n",
      "temperature\n",
      "hot\n",
      "mild\n",
      "cool\n",
      "humidity\n",
      "high\n",
      "normal\n",
      "wind\n",
      "weak\n",
      "strong\n"
     ]
    }
   ],
   "source": [
    "for column_name in df.columns[1:-1]:\n",
    "    print(column_name)\n",
    "    for outlook in df[column_name].unique():\n",
    "        print(outlook)"
   ]
  },
  {
   "cell_type": "code",
   "execution_count": 33,
   "metadata": {},
   "outputs": [
    {
     "name": "stdout",
     "output_type": "stream",
     "text": [
      "outlook\n",
      "0.34285714285714286\n",
      "temperature\n",
      "0.44047619047619047\n",
      "humidity\n",
      "0.3673469387755103\n",
      "wind\n",
      "0.42857142857142855\n"
     ]
    }
   ],
   "source": [
    "first_gini_dict= {}\n",
    "for column_name in df.columns[1:-1]:\n",
    "    print(column_name)\n",
    "    couloum_gini_index = 0\n",
    "    for outlook in df[column_name].unique():\n",
    "        number_of_yes = df.loc[(df[column_name]==outlook)&(df['decision']=='yes')].shape[0]\n",
    "        number_of_no = df.loc[(df[column_name]==outlook)&(df['decision']=='no')].shape[0]\n",
    "        total_number_yes_no = number_of_no + number_of_yes\n",
    "        formula = (1 - (number_of_yes/total_number_yes_no)**2 - (number_of_no/total_number_yes_no)**2) * (total_number_yes_no/df.shape[0])\n",
    "        couloum_gini_index = couloum_gini_index + formula\n",
    "    print(couloum_gini_index)"
   ]
  },
  {
   "cell_type": "code",
   "execution_count": null,
   "metadata": {},
   "outputs": [],
   "source": [
    "second_gini_dict= {}\n",
    "for column_name in df.columns[1:-1]:\n",
    "    print(column_name)\n",
    "    couloum_gini_index = 0\n",
    "    for category in df[column_name].unique():\n",
    "        number_of_yes = df.loc[(df['outlook']=='sunny')&(df['decision']=='yes')].shape[0]\n",
    "        number_of_no = df.loc[(df[column_name]==outlook)&(df['decision']=='no')].shape[0]\n",
    "        total_number_yes_no = number_of_no + number_of_yes\n",
    "        formula = (1 - (number_of_yes/total_number_yes_no)**2 - (number_of_no/total_number_yes_no)**2) * (total_number_yes_no/df.shape[0])\n",
    "        couloum_gini_index = couloum_gini_index + formula\n",
    "    print(couloum_gini_index)"
   ]
  },
  {
   "cell_type": "code",
   "execution_count": 48,
   "metadata": {},
   "outputs": [
    {
     "name": "stdout",
     "output_type": "stream",
     "text": [
      "sunny\n",
      "temperature\n",
      "0.07142857142857142\n",
      "humidity\n",
      "0.0\n",
      "wind\n",
      "0.16666666666666666\n",
      "overcast\n",
      "temperature\n",
      "0.0\n",
      "humidity\n",
      "0.0\n",
      "wind\n",
      "0.0\n",
      "rainfall\n",
      "temperature\n",
      "0.16666666666666666\n",
      "humidity\n",
      "0.16666666666666666\n",
      "wind\n",
      "0.0\n"
     ]
    }
   ],
   "source": [
    "# we have decided that outlook would be considered as the root node\n",
    "# root node has 3 cater=gorical values, rainy, sunny, overcast\n",
    "# Now we have to calculate the next node for each cat values of rainy sunny and overcast\n",
    "\n",
    "for outlook in df['outlook'].unique():\n",
    "    print (outlook)\n",
    "    for column_name in df.columns[2:-1]:\n",
    "        final_gini_index = 0\n",
    "        for categorical_value in df.loc[df['outlook'] == outlook][column_name].unique():\n",
    "            number_of_yes = df.loc[(df['outlook'] == outlook ) & (df[column_name] == categorical_value) & (df['decision'] =='yes')].shape[0]\n",
    "            number_of_no = df.loc[(df['outlook'] == outlook ) & (df[column_name] == categorical_value) & (df['decision'] =='no')].shape[0]\n",
    "            total_number = number_of_yes + number_of_no\n",
    "            gini_index = total_number/df.shape[0] *(1 - (number_of_no/total_number) **2 - (number_of_yes/total_number) **2)\n",
    "            final_gini_index = final_gini_index + gini_index\n",
    "        print(column_name)\n",
    "        print(final_gini_index)"
   ]
  },
  {
   "cell_type": "code",
   "execution_count": null,
   "metadata": {},
   "outputs": [],
   "source": []
  },
  {
   "cell_type": "code",
   "execution_count": null,
   "metadata": {},
   "outputs": [],
   "source": []
  }
 ],
 "metadata": {
  "kernelspec": {
   "display_name": "Python 3",
   "language": "python",
   "name": "python3"
  },
  "language_info": {
   "codemirror_mode": {
    "name": "ipython",
    "version": 3
   },
   "file_extension": ".py",
   "mimetype": "text/x-python",
   "name": "python",
   "nbconvert_exporter": "python",
   "pygments_lexer": "ipython3",
   "version": "3.7.3"
  }
 },
 "nbformat": 4,
 "nbformat_minor": 2
}
