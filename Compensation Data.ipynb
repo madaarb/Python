{
 "cells": [
  {
   "cell_type": "code",
   "execution_count": 1,
   "metadata": {},
   "outputs": [],
   "source": [
    "import pandas as pd\n",
    "import numpy as np"
   ]
  },
  {
   "cell_type": "code",
   "execution_count": 4,
   "metadata": {},
   "outputs": [],
   "source": [
    "df = pd.read_csv('train_csv.csv')"
   ]
  },
  {
   "cell_type": "code",
   "execution_count": 14,
   "metadata": {},
   "outputs": [
    {
     "data": {
      "text/html": [
       "<div>\n",
       "<style scoped>\n",
       "    .dataframe tbody tr th:only-of-type {\n",
       "        vertical-align: middle;\n",
       "    }\n",
       "\n",
       "    .dataframe tbody tr th {\n",
       "        vertical-align: top;\n",
       "    }\n",
       "\n",
       "    .dataframe thead th {\n",
       "        text-align: right;\n",
       "    }\n",
       "</style>\n",
       "<table border=\"1\" class=\"dataframe\">\n",
       "  <thead>\n",
       "    <tr style=\"text-align: right;\">\n",
       "      <th></th>\n",
       "      <th>ID</th>\n",
       "      <th>Year Type</th>\n",
       "      <th>Year</th>\n",
       "      <th>Organization Group Code</th>\n",
       "      <th>Organization Group</th>\n",
       "      <th>Department Code</th>\n",
       "      <th>Department</th>\n",
       "      <th>Union Code</th>\n",
       "      <th>Union</th>\n",
       "      <th>Job Family Code</th>\n",
       "      <th>...</th>\n",
       "      <th>Job Code</th>\n",
       "      <th>Job</th>\n",
       "      <th>Employee Identifier</th>\n",
       "      <th>Overtime</th>\n",
       "      <th>Other Salaries</th>\n",
       "      <th>Retirement</th>\n",
       "      <th>Health/Dental</th>\n",
       "      <th>Other Benefits</th>\n",
       "      <th>Total Benefits</th>\n",
       "      <th>Class</th>\n",
       "    </tr>\n",
       "  </thead>\n",
       "  <tbody>\n",
       "    <tr>\n",
       "      <th>0</th>\n",
       "      <td>9248</td>\n",
       "      <td>Fiscal</td>\n",
       "      <td>2017</td>\n",
       "      <td>3</td>\n",
       "      <td>Human Welfare &amp; Neighborhood Development</td>\n",
       "      <td>DSS</td>\n",
       "      <td>HSA Human Services Agency</td>\n",
       "      <td>535</td>\n",
       "      <td>SEIU - Human Services, Local 1021</td>\n",
       "      <td>2900</td>\n",
       "      <td>...</td>\n",
       "      <td>2905</td>\n",
       "      <td>Senior Eligibility Worker</td>\n",
       "      <td>41351</td>\n",
       "      <td>0.00</td>\n",
       "      <td>240.00</td>\n",
       "      <td>11896.36</td>\n",
       "      <td>13765.55</td>\n",
       "      <td>5248.43</td>\n",
       "      <td>30910.34</td>\n",
       "      <td>2</td>\n",
       "    </tr>\n",
       "    <tr>\n",
       "      <th>1</th>\n",
       "      <td>44541</td>\n",
       "      <td>Fiscal</td>\n",
       "      <td>2014</td>\n",
       "      <td>6</td>\n",
       "      <td>General Administration &amp; Finance</td>\n",
       "      <td>ASR</td>\n",
       "      <td>ASR Assessor / Recorder</td>\n",
       "      <td>21</td>\n",
       "      <td>Prof &amp; Tech Engineers - Miscellaneous, Local 21</td>\n",
       "      <td>4200</td>\n",
       "      <td>...</td>\n",
       "      <td>4222</td>\n",
       "      <td>Sr Personal Property Auditor</td>\n",
       "      <td>41792</td>\n",
       "      <td>0.00</td>\n",
       "      <td>400.00</td>\n",
       "      <td>15429.94</td>\n",
       "      <td>9337.37</td>\n",
       "      <td>5599.01</td>\n",
       "      <td>30366.32</td>\n",
       "      <td>2</td>\n",
       "    </tr>\n",
       "    <tr>\n",
       "      <th>2</th>\n",
       "      <td>47031</td>\n",
       "      <td>Fiscal</td>\n",
       "      <td>2014</td>\n",
       "      <td>3</td>\n",
       "      <td>Human Welfare &amp; Neighborhood Development</td>\n",
       "      <td>DSS</td>\n",
       "      <td>HSA Human Services Agency</td>\n",
       "      <td>535</td>\n",
       "      <td>SEIU - Human Services, Local 1021</td>\n",
       "      <td>2900</td>\n",
       "      <td>...</td>\n",
       "      <td>2910</td>\n",
       "      <td>Social Worker</td>\n",
       "      <td>9357</td>\n",
       "      <td>0.00</td>\n",
       "      <td>1080.00</td>\n",
       "      <td>9682.00</td>\n",
       "      <td>8848.03</td>\n",
       "      <td>3463.92</td>\n",
       "      <td>21993.95</td>\n",
       "      <td>2</td>\n",
       "    </tr>\n",
       "    <tr>\n",
       "      <th>3</th>\n",
       "      <td>139416</td>\n",
       "      <td>Fiscal</td>\n",
       "      <td>2014</td>\n",
       "      <td>1</td>\n",
       "      <td>Public Protection</td>\n",
       "      <td>FIR</td>\n",
       "      <td>FIR Fire Department</td>\n",
       "      <td>798</td>\n",
       "      <td>Firefighters - Miscellaneous, Local 798</td>\n",
       "      <td>H000</td>\n",
       "      <td>...</td>\n",
       "      <td>H002</td>\n",
       "      <td>Firefighter</td>\n",
       "      <td>28022</td>\n",
       "      <td>25730.46</td>\n",
       "      <td>18414.18</td>\n",
       "      <td>24222.26</td>\n",
       "      <td>13911.13</td>\n",
       "      <td>2416.58</td>\n",
       "      <td>40549.97</td>\n",
       "      <td>3</td>\n",
       "    </tr>\n",
       "    <tr>\n",
       "      <th>4</th>\n",
       "      <td>123780</td>\n",
       "      <td>Fiscal</td>\n",
       "      <td>2013</td>\n",
       "      <td>2</td>\n",
       "      <td>Public Works, Transportation &amp; Commerce</td>\n",
       "      <td>MTA</td>\n",
       "      <td>MTA Municipal Transprtn Agncy</td>\n",
       "      <td>790</td>\n",
       "      <td>SEIU - Miscellaneous, Local 1021</td>\n",
       "      <td>1600</td>\n",
       "      <td>...</td>\n",
       "      <td>1224</td>\n",
       "      <td>Pr Payroll &amp; Personnel Clerk</td>\n",
       "      <td>51052</td>\n",
       "      <td>1138.28</td>\n",
       "      <td>2148.11</td>\n",
       "      <td>15437.62</td>\n",
       "      <td>12828.15</td>\n",
       "      <td>7246.54</td>\n",
       "      <td>35512.31</td>\n",
       "      <td>3</td>\n",
       "    </tr>\n",
       "  </tbody>\n",
       "</table>\n",
       "<p>5 rows × 21 columns</p>\n",
       "</div>"
      ],
      "text/plain": [
       "       ID Year Type  Year  Organization Group Code  \\\n",
       "0    9248    Fiscal  2017                        3   \n",
       "1   44541    Fiscal  2014                        6   \n",
       "2   47031    Fiscal  2014                        3   \n",
       "3  139416    Fiscal  2014                        1   \n",
       "4  123780    Fiscal  2013                        2   \n",
       "\n",
       "                         Organization Group Department Code  \\\n",
       "0  Human Welfare & Neighborhood Development             DSS   \n",
       "1          General Administration & Finance             ASR   \n",
       "2  Human Welfare & Neighborhood Development             DSS   \n",
       "3                         Public Protection             FIR   \n",
       "4   Public Works, Transportation & Commerce             MTA   \n",
       "\n",
       "                      Department  Union Code  \\\n",
       "0      HSA Human Services Agency         535   \n",
       "1        ASR Assessor / Recorder          21   \n",
       "2      HSA Human Services Agency         535   \n",
       "3            FIR Fire Department         798   \n",
       "4  MTA Municipal Transprtn Agncy         790   \n",
       "\n",
       "                                             Union Job Family Code  ...  \\\n",
       "0                SEIU - Human Services, Local 1021            2900  ...   \n",
       "1  Prof & Tech Engineers - Miscellaneous, Local 21            4200  ...   \n",
       "2                SEIU - Human Services, Local 1021            2900  ...   \n",
       "3          Firefighters - Miscellaneous, Local 798            H000  ...   \n",
       "4                 SEIU - Miscellaneous, Local 1021            1600  ...   \n",
       "\n",
       "  Job Code                           Job Employee Identifier  Overtime  \\\n",
       "0     2905     Senior Eligibility Worker               41351      0.00   \n",
       "1     4222  Sr Personal Property Auditor               41792      0.00   \n",
       "2     2910                 Social Worker                9357      0.00   \n",
       "3     H002                   Firefighter               28022  25730.46   \n",
       "4     1224  Pr Payroll & Personnel Clerk               51052   1138.28   \n",
       "\n",
       "   Other Salaries  Retirement  Health/Dental  Other Benefits  Total Benefits  \\\n",
       "0          240.00    11896.36       13765.55         5248.43        30910.34   \n",
       "1          400.00    15429.94        9337.37         5599.01        30366.32   \n",
       "2         1080.00     9682.00        8848.03         3463.92        21993.95   \n",
       "3        18414.18    24222.26       13911.13         2416.58        40549.97   \n",
       "4         2148.11    15437.62       12828.15         7246.54        35512.31   \n",
       "\n",
       "   Class  \n",
       "0      2  \n",
       "1      2  \n",
       "2      2  \n",
       "3      3  \n",
       "4      3  \n",
       "\n",
       "[5 rows x 21 columns]"
      ]
     },
     "execution_count": 14,
     "metadata": {},
     "output_type": "execute_result"
    }
   ],
   "source": [
    "df.head()"
   ]
  },
  {
   "cell_type": "code",
   "execution_count": 15,
   "metadata": {},
   "outputs": [
    {
     "data": {
      "text/plain": [
       "ID                           int64\n",
       "Year Type                   object\n",
       "Year                         int64\n",
       "Organization Group Code      int64\n",
       "Organization Group          object\n",
       "Department Code             object\n",
       "Department                  object\n",
       "Union Code                   int64\n",
       "Union                       object\n",
       "Job Family Code             object\n",
       "Job Family                  object\n",
       "Job Code                    object\n",
       "Job                         object\n",
       "Employee Identifier          int64\n",
       "Overtime                   float64\n",
       "Other Salaries             float64\n",
       "Retirement                 float64\n",
       "Health/Dental              float64\n",
       "Other Benefits             float64\n",
       "Total Benefits             float64\n",
       "Class                        int64\n",
       "dtype: object"
      ]
     },
     "execution_count": 15,
     "metadata": {},
     "output_type": "execute_result"
    }
   ],
   "source": [
    "df.dtypes"
   ]
  },
  {
   "cell_type": "code",
   "execution_count": 8,
   "metadata": {},
   "outputs": [
    {
     "data": {
      "text/plain": [
       "(149087, 21)"
      ]
     },
     "execution_count": 8,
     "metadata": {},
     "output_type": "execute_result"
    }
   ],
   "source": [
    "df.shape"
   ]
  },
  {
   "cell_type": "code",
   "execution_count": 12,
   "metadata": {},
   "outputs": [
    {
     "data": {
      "text/plain": [
       "0    3\n",
       "dtype: int64"
      ]
     },
     "execution_count": 12,
     "metadata": {},
     "output_type": "execute_result"
    }
   ],
   "source": [
    "df['Class'].mode()"
   ]
  },
  {
   "cell_type": "code",
   "execution_count": 16,
   "metadata": {},
   "outputs": [
    {
     "data": {
      "text/plain": [
       "26411.47983995903"
      ]
     },
     "execution_count": 16,
     "metadata": {},
     "output_type": "execute_result"
    }
   ],
   "source": [
    "df['Total Benefits'].mean()"
   ]
  },
  {
   "cell_type": "code",
   "execution_count": 39,
   "metadata": {},
   "outputs": [
    {
     "data": {
      "text/plain": [
       "0    2\n",
       "dtype: int64"
      ]
     },
     "execution_count": 39,
     "metadata": {},
     "output_type": "execute_result"
    }
   ],
   "source": [
    "df['Organization Group Code'].mode()"
   ]
  },
  {
   "cell_type": "code",
   "execution_count": 37,
   "metadata": {
    "scrolled": true
   },
   "outputs": [
    {
     "data": {
      "text/plain": [
       "30311.56"
      ]
     },
     "execution_count": 37,
     "metadata": {},
     "output_type": "execute_result"
    }
   ],
   "source": [
    "df['Total Benefits'].median()"
   ]
  },
  {
   "cell_type": "code",
   "execution_count": 22,
   "metadata": {},
   "outputs": [
    {
     "data": {
      "text/plain": [
       "0    SEIU - Miscellaneous, Local 1021\n",
       "dtype: object"
      ]
     },
     "execution_count": 22,
     "metadata": {},
     "output_type": "execute_result"
    }
   ],
   "source": [
    "df['Union'].mode()"
   ]
  },
  {
   "cell_type": "code",
   "execution_count": 26,
   "metadata": {},
   "outputs": [
    {
     "data": {
      "text/plain": [
       "Class\n",
       "1     480.957099\n",
       "2    4363.602698\n",
       "3    8516.718521\n",
       "Name: Overtime, dtype: float64"
      ]
     },
     "execution_count": 26,
     "metadata": {},
     "output_type": "execute_result"
    }
   ],
   "source": [
    "df.groupby('Class')['Overtime'].mean()"
   ]
  },
  {
   "cell_type": "code",
   "execution_count": 30,
   "metadata": {},
   "outputs": [
    {
     "data": {
      "text/plain": [
       "Class\n",
       "1     6029.042161\n",
       "2    29526.365615\n",
       "3    42894.981694\n",
       "Name: Total Benefits, dtype: float64"
      ]
     },
     "execution_count": 30,
     "metadata": {},
     "output_type": "execute_result"
    }
   ],
   "source": [
    "df.groupby('Class')['Total Benefits'].mean()"
   ]
  },
  {
   "cell_type": "code",
   "execution_count": 32,
   "metadata": {},
   "outputs": [
    {
     "data": {
      "text/plain": [
       "0    Transit Operator\n",
       "dtype: object"
      ]
     },
     "execution_count": 32,
     "metadata": {},
     "output_type": "execute_result"
    }
   ],
   "source": [
    "df['Job'].mode()"
   ]
  },
  {
   "cell_type": "code",
   "execution_count": 46,
   "metadata": {},
   "outputs": [
    {
     "data": {
      "text/plain": [
       "Class  Job                                \n",
       "1      Special Nurse                          3706\n",
       "       Public Svc Aide-Public Works           2922\n",
       "       Public Service Trainee                 2823\n",
       "       Recreation Leader                      2570\n",
       "       Transit Operator                       2435\n",
       "       Library Page                            925\n",
       "       Police Officer                          823\n",
       "       Junior Clerk                            803\n",
       "       Stdntdsgntrain1, Arch/Eng/Plng          792\n",
       "       Custodian                               781\n",
       "       PS Aide To Prof                         744\n",
       "       Publ Svc Aide-Asst To Prof              718\n",
       "       School Crossing Guard                   678\n",
       "       Patient Care Assistant                  650\n",
       "       Clerk                                   574\n",
       "       Eligibility Worker                      498\n",
       "       Registered Nurse                        483\n",
       "       Pool Lifeguard                          479\n",
       "       Camp Assistant                          461\n",
       "       Senior Clerk                            442\n",
       "       Museum Guard                            422\n",
       "       Porter                                  416\n",
       "       Police Officer 3                        407\n",
       "       Food Service Worker                     381\n",
       "       Stdntdsgn Train2/Arch/Eng/Plng          361\n",
       "       Stdntdsgntrain3, Arch/Eng/Plng          342\n",
       "       Senior Eligibility Worker               328\n",
       "       General Laborer                         324\n",
       "       PS Aide Health Services                 315\n",
       "       Licensed Vocational Nurse               253\n",
       "                                              ... \n",
       "3      Management Assistant II (OCII)            1\n",
       "       Manager Of Museum Security Services       1\n",
       "       Marina Associate Manager                  1\n",
       "       Mayoral Staff XII                         1\n",
       "       Municipal Stadium Groundskpr              1\n",
       "       Parking Hearing Supervisor                1\n",
       "       Physician Administrator, DPH              1\n",
       "       Principal Clerk                           1\n",
       "       Respiratory Care Practitioner             1\n",
       "       Roofer Supervisor 1                       1\n",
       "       Senior Collections Officer                1\n",
       "       Senior Maintenance Controller             1\n",
       "       Senior Pharmacy Helper                    1\n",
       "       Senior Social Worker                      1\n",
       "       Senior Statistician                       1\n",
       "       Special Assistant 13                      1\n",
       "       Special Assistant 15                      1\n",
       "       Special Assistant 16                      1\n",
       "       Specialist In Aging 2                     1\n",
       "       Sr Da Investigator(SFERS)                 1\n",
       "       Sr General Utility Mechanic               1\n",
       "       Sr Sprv Prob Ofc, Juv Prob                1\n",
       "       Supervising Mediator, UFCS                1\n",
       "       Surgical Procedures Technician            1\n",
       "       Technology Expert I                       1\n",
       "       Track Maint Supt, Muni Railway            1\n",
       "       Training Coordinator                      1\n",
       "       Transit Paint Shop Sprv1                  1\n",
       "       Undersheriff                              1\n",
       "       Water Meter Shop Supervisor 1             1\n",
       "Name: Job, Length: 2650, dtype: int64"
      ]
     },
     "execution_count": 46,
     "metadata": {},
     "output_type": "execute_result"
    }
   ],
   "source": [
    "df.groupby('Class')['Job'].value_counts()"
   ]
  },
  {
   "cell_type": "code",
   "execution_count": 47,
   "metadata": {},
   "outputs": [
    {
     "data": {
      "text/plain": [
       "Class  Department                    \n",
       "1      AAM Asian Art Museum                119\n",
       "       ADM Gen Svcs Agency-City Admin     1358\n",
       "       ADP Adult Probation                 143\n",
       "       AIR Airport Commission             1865\n",
       "       ART Arts Commission                  53\n",
       "       ASR Assessor / Recorder             226\n",
       "       BOA Board Of Appeals - PAB           23\n",
       "       BOS Board Of Supervisors            185\n",
       "       CAT City Attorney                   103\n",
       "       CFC Children & Families Commsn       18\n",
       "       CHF Children;Youth & Families       119\n",
       "       CII Commty Invest & Infrstrctr        8\n",
       "       CON Controller                      285\n",
       "       CPC City Planning                   351\n",
       "       CRT Superior Court                  522\n",
       "       CSC Civil Service Commission         22\n",
       "       CSS Child Support Services           70\n",
       "       DAT District Attorney               197\n",
       "       DBI Building Inspection             258\n",
       "       DEM Emergency Management            202\n",
       "       DPH Public Health                 10215\n",
       "       DPW GSA - Public Works             2015\n",
       "       DT GSA - Technology                 293\n",
       "       ECN Economic & Wrkfrce Dvlpmnt      116\n",
       "       ENV Environment                     222\n",
       "       ETH Ethics Commission                26\n",
       "       FAM Fine Arts Museum                640\n",
       "       FIR Fire Department                 666\n",
       "       GEN General City / Unallocated      184\n",
       "       HHP CleanPowerSF                      6\n",
       "                                         ...  \n",
       "3      ETH Ethics Commission                23\n",
       "       FAM Fine Arts Museum                 40\n",
       "       FIR Fire Department                4690\n",
       "       HHP CleanPowerSF                      1\n",
       "       HHP Hetch Hetchy Water & Power      662\n",
       "       HOM HOMELESSNESS SERVICES            20\n",
       "       HRC Human Rights Commission          21\n",
       "       HRD Human Resources                 290\n",
       "       HSA Human Services Agency          2327\n",
       "       HSS Health Service System            75\n",
       "       JUV Juvenile Probation              249\n",
       "       LIB Public Library                  581\n",
       "       LLB Law Library                       5\n",
       "       MTA Municipal Transprtn Agncy      4377\n",
       "       MYR Mayor                           229\n",
       "       PDR Public Defender                 398\n",
       "       POL Police                         7393\n",
       "       PRT Port                            502\n",
       "       PUB Public Utilities Bureaus       1477\n",
       "       REC Recreation & Park Commsn        560\n",
       "       REG Elections                        26\n",
       "       RET Retirement System               174\n",
       "       RNT Rent Arbitration Board           58\n",
       "       SCI Academy Of Sciences              22\n",
       "       SHF Sheriff                        2666\n",
       "       TTX Treasurer/Tax Collector         234\n",
       "       WAR War Memorial                     71\n",
       "       WOM Status Of Women                   9\n",
       "       WTR Water Enterprise               1412\n",
       "       WWE Wastewater Enterprise          1149\n",
       "Name: Department, Length: 166, dtype: int64"
      ]
     },
     "execution_count": 47,
     "metadata": {},
     "output_type": "execute_result"
    }
   ],
   "source": [
    "df.groupby(['Class', 'Department'])['Department'].count()"
   ]
  },
  {
   "cell_type": "code",
   "execution_count": 58,
   "metadata": {},
   "outputs": [],
   "source": [
    "df_class = df.loc[df['Class'] == 2]"
   ]
  },
  {
   "cell_type": "code",
   "execution_count": 59,
   "metadata": {},
   "outputs": [
    {
     "data": {
      "text/plain": [
       "Job\n",
       "Account Clerk                               214\n",
       "Accountant I                                  5\n",
       "Accountant II                               160\n",
       "Accountant III                               84\n",
       "Accountant IV                                23\n",
       "Accountant Intern                            66\n",
       "Accounting Supervisor (OCII)                  1\n",
       "Acupuncturist                                 3\n",
       "Admin Analyst 3                               2\n",
       "Administrative Analyst                      241\n",
       "Administrative Analyst II                     6\n",
       "Administrative Engineer                       2\n",
       "Administrative Services Mgr                   7\n",
       "Administrator, Department Of Public Heal      1\n",
       "Admission Attendant                          48\n",
       "Agricultural Inspector                        6\n",
       "Airport Communications Disp                  33\n",
       "Airport Economic Planner                      1\n",
       "Airport Electrician                           1\n",
       "Airport Electrician Supervisor                3\n",
       "Airport Emerg Planning Coord                  2\n",
       "Airport Ground Transport Tech                 7\n",
       "Airport Noise Abatement Spec                  8\n",
       "Airport Operations Supervisor                 3\n",
       "Airport Property Specialist 1                 6\n",
       "Airport Safety Officer                       44\n",
       "Airport Security ID Technician               14\n",
       "Anesthetist                                  10\n",
       "Animal Care Asst Supv                         4\n",
       "Animal Care Attendant                        33\n",
       "                                           ... \n",
       "Utility Plumber Apprentice II                 3\n",
       "Utility Plumber Supervisor 1                 12\n",
       "Utility Plumber Supervisor 2                  4\n",
       "Utility Specialist                           23\n",
       "Victim/Witness Investigator 1                60\n",
       "Victim/Witness Investigator 2                21\n",
       "Victim/Witness Investigator 3                10\n",
       "Volunteer/Outreach Coord                     23\n",
       "Wastewater Control Inspector                  2\n",
       "Water & Power Maint Sprv 1                    1\n",
       "Water Conservation Admin                      1\n",
       "Water Meter Repairer                         18\n",
       "Water Operations Analyst                      3\n",
       "Water Quality Tech III                       10\n",
       "Water Qualitytech I/II                       70\n",
       "Water Service Inspector                      13\n",
       "Watershed Keeper                             77\n",
       "Watershed Keeper Supervisor                   6\n",
       "Welder                                       14\n",
       "Welfare Fraud Investigator                    5\n",
       "Wharfinger 1                                  3\n",
       "Wharfinger 2                                  1\n",
       "Window Cleaner                               47\n",
       "Window Cleaner Supervisor                     1\n",
       "Wire Rope Cable Maint Mechanic               10\n",
       "Wireropecable Maint Mech Train                2\n",
       "Worker's Comp Supervisor 1                    2\n",
       "Worker's Compensation Adjuster               21\n",
       "X-Ray Laboratory Aide                        81\n",
       "Youth Comm Advisor                            2\n",
       "Name: Class, Length: 909, dtype: int64"
      ]
     },
     "execution_count": 59,
     "metadata": {},
     "output_type": "execute_result"
    }
   ],
   "source": [
    "df_class.groupby('Job')['Class'].count()"
   ]
  },
  {
   "cell_type": "code",
   "execution_count": 60,
   "metadata": {},
   "outputs": [
    {
     "data": {
      "text/plain": [
       "Index(['ID', 'Year Type', 'Year', 'Organization Group Code',\n",
       "       'Organization Group', 'Department Code', 'Department', 'Union Code',\n",
       "       'Union', 'Job Family Code', 'Job Family', 'Job Code', 'Job',\n",
       "       'Employee Identifier', 'Overtime', 'Other Salaries', 'Retirement',\n",
       "       'Health/Dental', 'Other Benefits', 'Total Benefits', 'Class'],\n",
       "      dtype='object')"
      ]
     },
     "execution_count": 60,
     "metadata": {},
     "output_type": "execute_result"
    }
   ],
   "source": [
    "df.columns"
   ]
  },
  {
   "cell_type": "code",
   "execution_count": 71,
   "metadata": {},
   "outputs": [],
   "source": [
    "X = df[[x for x in df.columns if x not in ['ID', 'Year Type' , 'Year', 'Organization Group Code', 'Department Code' , 'Union Code', 'Union Code', 'Job Family Code', 'Job Code', 'Employee Identifier', 'Total Benefits', 'Class']]]\n",
    "Y = df[['Class']]"
   ]
  },
  {
   "cell_type": "code",
   "execution_count": 72,
   "metadata": {},
   "outputs": [
    {
     "data": {
      "text/html": [
       "<div>\n",
       "<style scoped>\n",
       "    .dataframe tbody tr th:only-of-type {\n",
       "        vertical-align: middle;\n",
       "    }\n",
       "\n",
       "    .dataframe tbody tr th {\n",
       "        vertical-align: top;\n",
       "    }\n",
       "\n",
       "    .dataframe thead th {\n",
       "        text-align: right;\n",
       "    }\n",
       "</style>\n",
       "<table border=\"1\" class=\"dataframe\">\n",
       "  <thead>\n",
       "    <tr style=\"text-align: right;\">\n",
       "      <th></th>\n",
       "      <th>Organization Group</th>\n",
       "      <th>Department</th>\n",
       "      <th>Union</th>\n",
       "      <th>Job Family</th>\n",
       "      <th>Job</th>\n",
       "      <th>Overtime</th>\n",
       "      <th>Other Salaries</th>\n",
       "      <th>Retirement</th>\n",
       "      <th>Health/Dental</th>\n",
       "      <th>Other Benefits</th>\n",
       "    </tr>\n",
       "  </thead>\n",
       "  <tbody>\n",
       "    <tr>\n",
       "      <th>0</th>\n",
       "      <td>Human Welfare &amp; Neighborhood Development</td>\n",
       "      <td>HSA Human Services Agency</td>\n",
       "      <td>SEIU - Human Services, Local 1021</td>\n",
       "      <td>Human Services</td>\n",
       "      <td>Senior Eligibility Worker</td>\n",
       "      <td>0.00</td>\n",
       "      <td>240.00</td>\n",
       "      <td>11896.36</td>\n",
       "      <td>13765.55</td>\n",
       "      <td>5248.43</td>\n",
       "    </tr>\n",
       "    <tr>\n",
       "      <th>1</th>\n",
       "      <td>General Administration &amp; Finance</td>\n",
       "      <td>ASR Assessor / Recorder</td>\n",
       "      <td>Prof &amp; Tech Engineers - Miscellaneous, Local 21</td>\n",
       "      <td>Appraisal &amp; Taxation</td>\n",
       "      <td>Sr Personal Property Auditor</td>\n",
       "      <td>0.00</td>\n",
       "      <td>400.00</td>\n",
       "      <td>15429.94</td>\n",
       "      <td>9337.37</td>\n",
       "      <td>5599.01</td>\n",
       "    </tr>\n",
       "    <tr>\n",
       "      <th>2</th>\n",
       "      <td>Human Welfare &amp; Neighborhood Development</td>\n",
       "      <td>HSA Human Services Agency</td>\n",
       "      <td>SEIU - Human Services, Local 1021</td>\n",
       "      <td>Human Services</td>\n",
       "      <td>Social Worker</td>\n",
       "      <td>0.00</td>\n",
       "      <td>1080.00</td>\n",
       "      <td>9682.00</td>\n",
       "      <td>8848.03</td>\n",
       "      <td>3463.92</td>\n",
       "    </tr>\n",
       "    <tr>\n",
       "      <th>3</th>\n",
       "      <td>Public Protection</td>\n",
       "      <td>FIR Fire Department</td>\n",
       "      <td>Firefighters - Miscellaneous, Local 798</td>\n",
       "      <td>Fire Services</td>\n",
       "      <td>Firefighter</td>\n",
       "      <td>25730.46</td>\n",
       "      <td>18414.18</td>\n",
       "      <td>24222.26</td>\n",
       "      <td>13911.13</td>\n",
       "      <td>2416.58</td>\n",
       "    </tr>\n",
       "    <tr>\n",
       "      <th>4</th>\n",
       "      <td>Public Works, Transportation &amp; Commerce</td>\n",
       "      <td>MTA Municipal Transprtn Agncy</td>\n",
       "      <td>SEIU - Miscellaneous, Local 1021</td>\n",
       "      <td>Payroll, Billing &amp; Accounting</td>\n",
       "      <td>Pr Payroll &amp; Personnel Clerk</td>\n",
       "      <td>1138.28</td>\n",
       "      <td>2148.11</td>\n",
       "      <td>15437.62</td>\n",
       "      <td>12828.15</td>\n",
       "      <td>7246.54</td>\n",
       "    </tr>\n",
       "  </tbody>\n",
       "</table>\n",
       "</div>"
      ],
      "text/plain": [
       "                         Organization Group                     Department  \\\n",
       "0  Human Welfare & Neighborhood Development      HSA Human Services Agency   \n",
       "1          General Administration & Finance        ASR Assessor / Recorder   \n",
       "2  Human Welfare & Neighborhood Development      HSA Human Services Agency   \n",
       "3                         Public Protection            FIR Fire Department   \n",
       "4   Public Works, Transportation & Commerce  MTA Municipal Transprtn Agncy   \n",
       "\n",
       "                                             Union  \\\n",
       "0                SEIU - Human Services, Local 1021   \n",
       "1  Prof & Tech Engineers - Miscellaneous, Local 21   \n",
       "2                SEIU - Human Services, Local 1021   \n",
       "3          Firefighters - Miscellaneous, Local 798   \n",
       "4                 SEIU - Miscellaneous, Local 1021   \n",
       "\n",
       "                      Job Family                           Job  Overtime  \\\n",
       "0                 Human Services     Senior Eligibility Worker      0.00   \n",
       "1           Appraisal & Taxation  Sr Personal Property Auditor      0.00   \n",
       "2                 Human Services                 Social Worker      0.00   \n",
       "3                  Fire Services                   Firefighter  25730.46   \n",
       "4  Payroll, Billing & Accounting  Pr Payroll & Personnel Clerk   1138.28   \n",
       "\n",
       "   Other Salaries  Retirement  Health/Dental  Other Benefits  \n",
       "0          240.00    11896.36       13765.55         5248.43  \n",
       "1          400.00    15429.94        9337.37         5599.01  \n",
       "2         1080.00     9682.00        8848.03         3463.92  \n",
       "3        18414.18    24222.26       13911.13         2416.58  \n",
       "4         2148.11    15437.62       12828.15         7246.54  "
      ]
     },
     "execution_count": 72,
     "metadata": {},
     "output_type": "execute_result"
    }
   ],
   "source": [
    "X.head()"
   ]
  },
  {
   "cell_type": "code",
   "execution_count": 73,
   "metadata": {},
   "outputs": [
    {
     "data": {
      "text/html": [
       "<div>\n",
       "<style scoped>\n",
       "    .dataframe tbody tr th:only-of-type {\n",
       "        vertical-align: middle;\n",
       "    }\n",
       "\n",
       "    .dataframe tbody tr th {\n",
       "        vertical-align: top;\n",
       "    }\n",
       "\n",
       "    .dataframe thead th {\n",
       "        text-align: right;\n",
       "    }\n",
       "</style>\n",
       "<table border=\"1\" class=\"dataframe\">\n",
       "  <thead>\n",
       "    <tr style=\"text-align: right;\">\n",
       "      <th></th>\n",
       "      <th>Class</th>\n",
       "    </tr>\n",
       "  </thead>\n",
       "  <tbody>\n",
       "    <tr>\n",
       "      <th>0</th>\n",
       "      <td>2</td>\n",
       "    </tr>\n",
       "    <tr>\n",
       "      <th>1</th>\n",
       "      <td>2</td>\n",
       "    </tr>\n",
       "    <tr>\n",
       "      <th>2</th>\n",
       "      <td>2</td>\n",
       "    </tr>\n",
       "    <tr>\n",
       "      <th>3</th>\n",
       "      <td>3</td>\n",
       "    </tr>\n",
       "    <tr>\n",
       "      <th>4</th>\n",
       "      <td>3</td>\n",
       "    </tr>\n",
       "  </tbody>\n",
       "</table>\n",
       "</div>"
      ],
      "text/plain": [
       "   Class\n",
       "0      2\n",
       "1      2\n",
       "2      2\n",
       "3      3\n",
       "4      3"
      ]
     },
     "execution_count": 73,
     "metadata": {},
     "output_type": "execute_result"
    }
   ],
   "source": [
    "Y.head()"
   ]
  },
  {
   "cell_type": "code",
   "execution_count": 76,
   "metadata": {},
   "outputs": [],
   "source": [
    "from sklearn.preprocessing import LabelEncoder, OneHotEncoder"
   ]
  },
  {
   "cell_type": "code",
   "execution_count": null,
   "metadata": {},
   "outputs": [],
   "source": []
  },
  {
   "cell_type": "code",
   "execution_count": 75,
   "metadata": {},
   "outputs": [
    {
     "name": "stderr",
     "output_type": "stream",
     "text": [
      "D:\\Python\\lib\\site-packages\\pandas\\core\\indexing.py:543: SettingWithCopyWarning: \n",
      "A value is trying to be set on a copy of a slice from a DataFrame.\n",
      "Try using .loc[row_indexer,col_indexer] = value instead\n",
      "\n",
      "See the caveats in the documentation: http://pandas.pydata.org/pandas-docs/stable/indexing.html#indexing-view-versus-copy\n",
      "  self.obj[item] = s\n"
     ]
    }
   ],
   "source": [
    "le = LabelEncoder()\n",
    "le.fit(X['Organization Group'])\n",
    "X.loc[:, 'Organization Group'] = le.transform(X['Organization Group'])"
   ]
  },
  {
   "cell_type": "code",
   "execution_count": 79,
   "metadata": {},
   "outputs": [
    {
     "data": {
      "text/html": [
       "<div>\n",
       "<style scoped>\n",
       "    .dataframe tbody tr th:only-of-type {\n",
       "        vertical-align: middle;\n",
       "    }\n",
       "\n",
       "    .dataframe tbody tr th {\n",
       "        vertical-align: top;\n",
       "    }\n",
       "\n",
       "    .dataframe thead th {\n",
       "        text-align: right;\n",
       "    }\n",
       "</style>\n",
       "<table border=\"1\" class=\"dataframe\">\n",
       "  <thead>\n",
       "    <tr style=\"text-align: right;\">\n",
       "      <th></th>\n",
       "      <th>Organization Group</th>\n",
       "      <th>Department</th>\n",
       "      <th>Union</th>\n",
       "      <th>Job Family</th>\n",
       "      <th>Job</th>\n",
       "      <th>Overtime</th>\n",
       "      <th>Other Salaries</th>\n",
       "      <th>Retirement</th>\n",
       "      <th>Health/Dental</th>\n",
       "      <th>Other Benefits</th>\n",
       "    </tr>\n",
       "  </thead>\n",
       "  <tbody>\n",
       "    <tr>\n",
       "      <th>0</th>\n",
       "      <td>4</td>\n",
       "      <td>HSA Human Services Agency</td>\n",
       "      <td>SEIU - Human Services, Local 1021</td>\n",
       "      <td>Human Services</td>\n",
       "      <td>Senior Eligibility Worker</td>\n",
       "      <td>0.00</td>\n",
       "      <td>240.00</td>\n",
       "      <td>11896.36</td>\n",
       "      <td>13765.55</td>\n",
       "      <td>5248.43</td>\n",
       "    </tr>\n",
       "    <tr>\n",
       "      <th>1</th>\n",
       "      <td>2</td>\n",
       "      <td>ASR Assessor / Recorder</td>\n",
       "      <td>Prof &amp; Tech Engineers - Miscellaneous, Local 21</td>\n",
       "      <td>Appraisal &amp; Taxation</td>\n",
       "      <td>Sr Personal Property Auditor</td>\n",
       "      <td>0.00</td>\n",
       "      <td>400.00</td>\n",
       "      <td>15429.94</td>\n",
       "      <td>9337.37</td>\n",
       "      <td>5599.01</td>\n",
       "    </tr>\n",
       "    <tr>\n",
       "      <th>2</th>\n",
       "      <td>4</td>\n",
       "      <td>HSA Human Services Agency</td>\n",
       "      <td>SEIU - Human Services, Local 1021</td>\n",
       "      <td>Human Services</td>\n",
       "      <td>Social Worker</td>\n",
       "      <td>0.00</td>\n",
       "      <td>1080.00</td>\n",
       "      <td>9682.00</td>\n",
       "      <td>8848.03</td>\n",
       "      <td>3463.92</td>\n",
       "    </tr>\n",
       "    <tr>\n",
       "      <th>3</th>\n",
       "      <td>5</td>\n",
       "      <td>FIR Fire Department</td>\n",
       "      <td>Firefighters - Miscellaneous, Local 798</td>\n",
       "      <td>Fire Services</td>\n",
       "      <td>Firefighter</td>\n",
       "      <td>25730.46</td>\n",
       "      <td>18414.18</td>\n",
       "      <td>24222.26</td>\n",
       "      <td>13911.13</td>\n",
       "      <td>2416.58</td>\n",
       "    </tr>\n",
       "    <tr>\n",
       "      <th>4</th>\n",
       "      <td>6</td>\n",
       "      <td>MTA Municipal Transprtn Agncy</td>\n",
       "      <td>SEIU - Miscellaneous, Local 1021</td>\n",
       "      <td>Payroll, Billing &amp; Accounting</td>\n",
       "      <td>Pr Payroll &amp; Personnel Clerk</td>\n",
       "      <td>1138.28</td>\n",
       "      <td>2148.11</td>\n",
       "      <td>15437.62</td>\n",
       "      <td>12828.15</td>\n",
       "      <td>7246.54</td>\n",
       "    </tr>\n",
       "  </tbody>\n",
       "</table>\n",
       "</div>"
      ],
      "text/plain": [
       "   Organization Group                     Department  \\\n",
       "0                   4      HSA Human Services Agency   \n",
       "1                   2        ASR Assessor / Recorder   \n",
       "2                   4      HSA Human Services Agency   \n",
       "3                   5            FIR Fire Department   \n",
       "4                   6  MTA Municipal Transprtn Agncy   \n",
       "\n",
       "                                             Union  \\\n",
       "0                SEIU - Human Services, Local 1021   \n",
       "1  Prof & Tech Engineers - Miscellaneous, Local 21   \n",
       "2                SEIU - Human Services, Local 1021   \n",
       "3          Firefighters - Miscellaneous, Local 798   \n",
       "4                 SEIU - Miscellaneous, Local 1021   \n",
       "\n",
       "                      Job Family                           Job  Overtime  \\\n",
       "0                 Human Services     Senior Eligibility Worker      0.00   \n",
       "1           Appraisal & Taxation  Sr Personal Property Auditor      0.00   \n",
       "2                 Human Services                 Social Worker      0.00   \n",
       "3                  Fire Services                   Firefighter  25730.46   \n",
       "4  Payroll, Billing & Accounting  Pr Payroll & Personnel Clerk   1138.28   \n",
       "\n",
       "   Other Salaries  Retirement  Health/Dental  Other Benefits  \n",
       "0          240.00    11896.36       13765.55         5248.43  \n",
       "1          400.00    15429.94        9337.37         5599.01  \n",
       "2         1080.00     9682.00        8848.03         3463.92  \n",
       "3        18414.18    24222.26       13911.13         2416.58  \n",
       "4         2148.11    15437.62       12828.15         7246.54  "
      ]
     },
     "execution_count": 79,
     "metadata": {},
     "output_type": "execute_result"
    }
   ],
   "source": [
    "X.head()"
   ]
  },
  {
   "cell_type": "code",
   "execution_count": 82,
   "metadata": {},
   "outputs": [],
   "source": [
    "le = LabelEncoder()\n",
    "le.fit(X['Department'])\n",
    "X.loc[:, 'Department'] = le.transform(X['Department'])\n",
    "\n",
    "le = LabelEncoder()\n",
    "le.fit(X['Union'])\n",
    "X.loc[:, 'Union'] = le.transform(X['Union'])\n",
    "\n",
    "\n",
    "le = LabelEncoder()\n",
    "le.fit(X['Job Family'])\n",
    "X.loc[:, 'Job Family'] = le.transform(X['Job Family'])\n",
    "\n",
    "le = LabelEncoder()\n",
    "le.fit(X['Job'])\n",
    "X.loc[:, 'Job'] = le.transform(X['Job'])"
   ]
  },
  {
   "cell_type": "code",
   "execution_count": 83,
   "metadata": {},
   "outputs": [
    {
     "data": {
      "text/html": [
       "<div>\n",
       "<style scoped>\n",
       "    .dataframe tbody tr th:only-of-type {\n",
       "        vertical-align: middle;\n",
       "    }\n",
       "\n",
       "    .dataframe tbody tr th {\n",
       "        vertical-align: top;\n",
       "    }\n",
       "\n",
       "    .dataframe thead th {\n",
       "        text-align: right;\n",
       "    }\n",
       "</style>\n",
       "<table border=\"1\" class=\"dataframe\">\n",
       "  <thead>\n",
       "    <tr style=\"text-align: right;\">\n",
       "      <th></th>\n",
       "      <th>Organization Group</th>\n",
       "      <th>Department</th>\n",
       "      <th>Union</th>\n",
       "      <th>Job Family</th>\n",
       "      <th>Job</th>\n",
       "      <th>Overtime</th>\n",
       "      <th>Other Salaries</th>\n",
       "      <th>Retirement</th>\n",
       "      <th>Health/Dental</th>\n",
       "      <th>Other Benefits</th>\n",
       "      <th>Union</th>\n",
       "    </tr>\n",
       "  </thead>\n",
       "  <tbody>\n",
       "    <tr>\n",
       "      <th>0</th>\n",
       "      <td>4</td>\n",
       "      <td>34</td>\n",
       "      <td>61</td>\n",
       "      <td>21</td>\n",
       "      <td>883</td>\n",
       "      <td>0.00</td>\n",
       "      <td>240.00</td>\n",
       "      <td>11896.36</td>\n",
       "      <td>13765.55</td>\n",
       "      <td>5248.43</td>\n",
       "      <td>61</td>\n",
       "    </tr>\n",
       "    <tr>\n",
       "      <th>1</th>\n",
       "      <td>2</td>\n",
       "      <td>5</td>\n",
       "      <td>55</td>\n",
       "      <td>6</td>\n",
       "      <td>1007</td>\n",
       "      <td>0.00</td>\n",
       "      <td>400.00</td>\n",
       "      <td>15429.94</td>\n",
       "      <td>9337.37</td>\n",
       "      <td>5599.01</td>\n",
       "      <td>55</td>\n",
       "    </tr>\n",
       "    <tr>\n",
       "      <th>2</th>\n",
       "      <td>4</td>\n",
       "      <td>34</td>\n",
       "      <td>61</td>\n",
       "      <td>21</td>\n",
       "      <td>957</td>\n",
       "      <td>0.00</td>\n",
       "      <td>1080.00</td>\n",
       "      <td>9682.00</td>\n",
       "      <td>8848.03</td>\n",
       "      <td>3463.92</td>\n",
       "      <td>61</td>\n",
       "    </tr>\n",
       "    <tr>\n",
       "      <th>3</th>\n",
       "      <td>5</td>\n",
       "      <td>27</td>\n",
       "      <td>18</td>\n",
       "      <td>17</td>\n",
       "      <td>442</td>\n",
       "      <td>25730.46</td>\n",
       "      <td>18414.18</td>\n",
       "      <td>24222.26</td>\n",
       "      <td>13911.13</td>\n",
       "      <td>2416.58</td>\n",
       "      <td>18</td>\n",
       "    </tr>\n",
       "    <tr>\n",
       "      <th>4</th>\n",
       "      <td>6</td>\n",
       "      <td>39</td>\n",
       "      <td>62</td>\n",
       "      <td>34</td>\n",
       "      <td>782</td>\n",
       "      <td>1138.28</td>\n",
       "      <td>2148.11</td>\n",
       "      <td>15437.62</td>\n",
       "      <td>12828.15</td>\n",
       "      <td>7246.54</td>\n",
       "      <td>62</td>\n",
       "    </tr>\n",
       "  </tbody>\n",
       "</table>\n",
       "</div>"
      ],
      "text/plain": [
       "   Organization Group  Department  Union  Job Family   Job  Overtime  \\\n",
       "0                   4          34     61          21   883      0.00   \n",
       "1                   2           5     55           6  1007      0.00   \n",
       "2                   4          34     61          21   957      0.00   \n",
       "3                   5          27     18          17   442  25730.46   \n",
       "4                   6          39     62          34   782   1138.28   \n",
       "\n",
       "   Other Salaries  Retirement  Health/Dental  Other Benefits   Union  \n",
       "0          240.00    11896.36       13765.55         5248.43      61  \n",
       "1          400.00    15429.94        9337.37         5599.01      55  \n",
       "2         1080.00     9682.00        8848.03         3463.92      61  \n",
       "3        18414.18    24222.26       13911.13         2416.58      18  \n",
       "4         2148.11    15437.62       12828.15         7246.54      62  "
      ]
     },
     "execution_count": 83,
     "metadata": {},
     "output_type": "execute_result"
    }
   ],
   "source": [
    "X.head()"
   ]
  },
  {
   "cell_type": "code",
   "execution_count": 84,
   "metadata": {},
   "outputs": [],
   "source": [
    "from sklearn.ensemble import RandomForestClassifier"
   ]
  },
  {
   "cell_type": "code",
   "execution_count": 88,
   "metadata": {},
   "outputs": [],
   "source": [
    "from sklearn.model_selection import train_test_split"
   ]
  },
  {
   "cell_type": "code",
   "execution_count": 89,
   "metadata": {},
   "outputs": [],
   "source": [
    "train_X, test_X, train_Y, test_Y = train_test_split(X,Y, test_size=0.2, random_state=42)"
   ]
  },
  {
   "cell_type": "code",
   "execution_count": 100,
   "metadata": {},
   "outputs": [
    {
     "name": "stderr",
     "output_type": "stream",
     "text": [
      "D:\\Python\\lib\\site-packages\\ipykernel_launcher.py:2: DataConversionWarning: A column-vector y was passed when a 1d array was expected. Please change the shape of y to (n_samples,), for example using ravel().\n",
      "  \n"
     ]
    }
   ],
   "source": [
    "rf = RandomForestClassifier(n_estimators=500)\n",
    "rf.fit(train_X, train_Y)\n",
    "preds=rf.predict(test_X)"
   ]
  },
  {
   "cell_type": "code",
   "execution_count": 101,
   "metadata": {},
   "outputs": [],
   "source": [
    "from sklearn.metrics import confusion_matrix, accuracy_score"
   ]
  },
  {
   "cell_type": "code",
   "execution_count": 102,
   "metadata": {},
   "outputs": [
    {
     "data": {
      "text/plain": [
       "array([[ 9598,   100,     3],\n",
       "       [  100,  9612,   112],\n",
       "       [    5,   156, 10132]], dtype=int64)"
      ]
     },
     "execution_count": 102,
     "metadata": {},
     "output_type": "execute_result"
    }
   ],
   "source": [
    "confusion_matrix(test_Y,preds)"
   ]
  },
  {
   "cell_type": "code",
   "execution_count": 103,
   "metadata": {},
   "outputs": [
    {
     "data": {
      "text/plain": [
       "0.984036488027366"
      ]
     },
     "execution_count": 103,
     "metadata": {},
     "output_type": "execute_result"
    }
   ],
   "source": [
    "accuracy_score(test_Y, preds)"
   ]
  },
  {
   "cell_type": "code",
   "execution_count": null,
   "metadata": {},
   "outputs": [],
   "source": []
  }
 ],
 "metadata": {
  "kernelspec": {
   "display_name": "Python 3",
   "language": "python",
   "name": "python3"
  },
  "language_info": {
   "codemirror_mode": {
    "name": "ipython",
    "version": 3
   },
   "file_extension": ".py",
   "mimetype": "text/x-python",
   "name": "python",
   "nbconvert_exporter": "python",
   "pygments_lexer": "ipython3",
   "version": "3.7.3"
  }
 },
 "nbformat": 4,
 "nbformat_minor": 2
}
